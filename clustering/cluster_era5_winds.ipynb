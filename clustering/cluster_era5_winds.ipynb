{
 "cells": [
  {
   "cell_type": "markdown",
   "metadata": {},
   "source": [
    "# Cluster gridded data"
   ]
  },
  {
   "cell_type": "markdown",
   "metadata": {},
   "source": [
    "\n",
    "### This example script clusters era5 windfields at 850 hPa and saves the clusters to a netcdf file"
   ]
  },
  {
   "cell_type": "markdown",
   "metadata": {},
   "source": [
    "## Load packages"
   ]
  },
  {
   "cell_type": "code",
   "execution_count": null,
   "metadata": {},
   "outputs": [],
   "source": [
    "import sys\n",
    "sys.path.append('utils/') # Path to scripts\n",
    "import read_era5 as era5\n",
    "import kmeans_clustering as kmeans"
   ]
  },
  {
   "cell_type": "markdown",
   "metadata": {},
   "source": [
    "## Input settings"
   ]
  },
  {
   "cell_type": "code",
   "execution_count": null,
   "metadata": {},
   "outputs": [],
   "source": [
    "date_start = '2000-01' # Start year-month for clustering data yyyy-mm\n",
    "date_end   = '2005-12' # End year-month for clustering data yyyy-mm (included)\n",
    "utc        = 12        # Clustering sampling time (utc) data is sampled daily\n",
    "plevel     = 850       # Height level used (hPa)\n",
    "lat_lims   = [-5,-50]  # South and North lattitude limit of analysis box\n",
    "lon_lims   = [100,165] # West and East longitude limit of analysis box\n",
    "Ncoarsen   = 6         # Coarsening factor in lat and lon direction\n",
    "Nclusters  = 30        # Number of clusters for kmeans clustering\n",
    "path_out   = \"/home/565/fl2086/weather-maps-australia/cluster_data/\" # Directory to save cluster results\n",
    "path_data  = \"/g/data/rt52/era5/pressure-levels/reanalysis/\"         # Era5 data directory\n",
    "n_jobs     = 1          # Processes used for clustering"
   ]
  },
  {
   "cell_type": "markdown",
   "metadata": {},
   "source": [
    "## Load data"
   ]
  },
  {
   "cell_type": "code",
   "execution_count": null,
   "metadata": {},
   "outputs": [],
   "source": [
    "print('Read u fields')\n",
    "u,time,lat,lon = era5.read_data('u',date_start,date_end,utc,lat_lims,lon_lims,path_data,Ncoarsen=Ncoarsen,plevel=plevel,progress=True)\n",
    "print('Read v fields')\n",
    "v,_,_,_        = era5.read_data('v',date_start,date_end,utc,lat_lims,lon_lims,path_data,Ncoarsen=Ncoarsen,plevel=plevel,progress=True)"
   ]
  },
  {
   "cell_type": "markdown",
   "metadata": {},
   "source": [
    "## Clustering"
   ]
  },
  {
   "cell_type": "code",
   "execution_count": null,
   "metadata": {},
   "outputs": [],
   "source": [
    "# Stack u, v data\n",
    "uv_stack = kmeans.stack(u,v)\n",
    "# Cluster\n",
    "clusterU,clusterV,labels,inertia,silhouette = kmeans.cluster(uv_stack,lat,lon,Nclusters,n_jobs=1)\n",
    "# Save output\n",
    "kmeans.save(f\"{path_out}example_02.nc\",Nclusters,time,lat,lon,clusterU,clusterV,labels,inertia,silhouette)"
   ]
  },
  {
   "cell_type": "code",
   "execution_count": null,
   "metadata": {},
   "outputs": [],
   "source": []
  }
 ],
 "metadata": {
  "kernelspec": {
   "display_name": "Python [conda env:analysis3-24.01]",
   "language": "python",
   "name": "conda-env-analysis3-24.01-py"
  },
  "language_info": {
   "codemirror_mode": {
    "name": "ipython",
    "version": 3
   },
   "file_extension": ".py",
   "mimetype": "text/x-python",
   "name": "python",
   "nbconvert_exporter": "python",
   "pygments_lexer": "ipython3",
   "version": "3.10.13"
  }
 },
 "nbformat": 4,
 "nbformat_minor": 4
}
