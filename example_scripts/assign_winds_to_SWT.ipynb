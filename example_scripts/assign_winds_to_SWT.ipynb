{
 "cells": [
  {
   "cell_type": "markdown",
   "id": "1980a366-def9-458d-8af7-1ed6a697b3f1",
   "metadata": {},
   "source": [
    "# Assign 850hPa wind field to an Australian Synoptic Weather Type (SWT)"
   ]
  },
  {
   "cell_type": "markdown",
   "id": "12facb5b-8e6e-481e-babc-a7ec2aeb9cfc",
   "metadata": {},
   "source": [
    "Import the data to requiring SWT assignment"
   ]
  },
  {
   "cell_type": "code",
   "execution_count": 1,
   "id": "35d631e4-3c20-4b40-b887-529f14d52e65",
   "metadata": {},
   "outputs": [],
   "source": [
    "SWTpath='/home/565/mb0427/gdata-gb02/Australian_synoptic_weather_types/'\n",
    "\n",
    "import xarray as xr\n",
    "import pickle\n",
    "import numpy as np\n",
    "import sys\n",
    "sys.path.append(SWTpath)\n",
    "from assign.assign import assign_grid_to_SWT\n",
    "\n",
    "inpath=SWTpath+'example_data/'\n",
    "ufn=inpath+'20250204120000-24h-enfo-ef_u_850_0.grib2'\n",
    "u=xr.open_dataset(ufn,engine='cfgrib')\n",
    "\n",
    "vfn=inpath+'20250204120000-24h-enfo-ef_v_850_0.grib2'\n",
    "v=xr.open_dataset(vfn,engine='cfgrib') \n"
   ]
  },
  {
   "cell_type": "markdown",
   "id": "47f793da-eaf1-4560-af42-d4675ca2afee",
   "metadata": {},
   "source": [
    "Assign the fields to a SWT name using the \"assign_grid_to_SWT\" function"
   ]
  },
  {
   "cell_type": "code",
   "execution_count": 2,
   "id": "be46adec-5add-4bb6-8ca6-4cc3be618f55",
   "metadata": {},
   "outputs": [
    {
     "name": "stdout",
     "output_type": "stream",
     "text": [
      "Synoptic Weather Type: AM-D\n",
      "Cluster ID: 8\n"
     ]
    }
   ],
   "source": [
    "SWTlabel,SWT_id=assign_grid_to_SWT(u,v,latname=\"latitude\",\n",
    "                                   lonname=\"longitude\",\n",
    "                                   cluster_filename=SWTpath+\"SWT_fields/SWT_data.nc\",\n",
    "                                   quiet=False)"
   ]
  },
  {
   "cell_type": "markdown",
   "id": "71d7e5e2-5625-4347-a1f3-2e51c5624e86",
   "metadata": {},
   "source": [
    "Printing \"assign_grid_to_SWT\" function to show its usage and inputs"
   ]
  },
  {
   "cell_type": "code",
   "execution_count": 3,
   "id": "1d686f65-2894-46e2-a79b-c265f56b42ad",
   "metadata": {},
   "outputs": [
    {
     "name": "stdout",
     "output_type": "stream",
     "text": [
      " Assign a 850hPa wind field to a Australian Synoptic Weather Type\n",
      "     \n",
      "    Created by Frans Liqui Lung (Monash University) and Michael A. Barnes (ARC CoE 21st Century Weather, Monash University)\n",
      "    \n",
      "    Parameters\n",
      "    ----------\n",
      "    \n",
      "    u : xr.DataArray with shape (latitude,longitude) and dtype float64\n",
      "        The 850hPa zonal wind field.\n",
      "    v : xr.DataArray with shape (latitude,longitude) and dtype float64\n",
      "        The 850hPa meridional wind field.\n",
      "    \n",
      "    Options\n",
      "    -------\n",
      "    \n",
      "    latname : str (default: \"latitude\")\n",
      "        Name of the latitude variable name in the input u and v DataArrays\n",
      "    lonname : str (default: \"longitude\")\n",
      "        Name of the longitude variable name in the input u and v DataArrays\n",
      "    cluster_filename : str (default: \"SWT_fields/SWT_data.nc\")\n",
      "        Location of the netcdf containing the clustered SWT fields.\n",
      "    quiet : bool (default: False)\n",
      "        If false, prints out the cluster_ID and SWT label, else simply and quietly returns the variables as specified.\n",
      "    \n",
      "    Returns\n",
      "    -------\n",
      "    label : str\n",
      "        The Synoptic Weather Type code.\n",
      "    cluster_ID : int\n",
      "        The clusterID of the Synoptic Weather Type as per the SWT_data file. \n",
      "    \n"
     ]
    }
   ],
   "source": [
    "print(assign_grid_to_SWT.__doc__)"
   ]
  },
  {
   "cell_type": "code",
   "execution_count": null,
   "id": "9a3337fa-3168-4f85-a00f-f4ae399a1621",
   "metadata": {},
   "outputs": [],
   "source": []
  }
 ],
 "metadata": {
  "kernelspec": {
   "display_name": "Python [conda env:analysis3-24.04] *",
   "language": "python",
   "name": "conda-env-analysis3-24.04-py"
  },
  "language_info": {
   "codemirror_mode": {
    "name": "ipython",
    "version": 3
   },
   "file_extension": ".py",
   "mimetype": "text/x-python",
   "name": "python",
   "nbconvert_exporter": "python",
   "pygments_lexer": "ipython3",
   "version": "3.10.14"
  }
 },
 "nbformat": 4,
 "nbformat_minor": 5
}
